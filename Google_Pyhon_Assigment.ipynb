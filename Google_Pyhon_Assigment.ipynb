{
  "nbformat": 4,
  "nbformat_minor": 0,
  "metadata": {
    "colab": {
      "name": "Google Pyhon Assigment",
      "provenance": [],
      "include_colab_link": true
    },
    "kernelspec": {
      "name": "python3",
      "display_name": "Python 3"
    },
    "language_info": {
      "name": "python"
    }
  },
  "cells": [
    {
      "cell_type": "markdown",
      "metadata": {
        "id": "view-in-github",
        "colab_type": "text"
      },
      "source": [
        "<a href=\"https://colab.research.google.com/github/anursen/Google-Pyhon-Assigments/blob/main/Google_Pyhon_Assigment.ipynb\" target=\"_parent\"><img src=\"https://colab.research.google.com/assets/colab-badge.svg\" alt=\"Open In Colab\"/></a>"
      ]
    },
    {
      "cell_type": "markdown",
      "source": [
        "#Question1\n",
        "Fill in the blanks of this code to print out the numbers 1 through 7.\n"
      ],
      "metadata": {
        "id": "LntgT11vY7ml"
      }
    },
    {
      "cell_type": "code",
      "source": [
        "number = 1\n",
        "while number <= 7:\n",
        "\tprint(number, end=\" \")\n",
        "\tnumber += 1"
      ],
      "metadata": {
        "colab": {
          "base_uri": "https://localhost:8080/"
        },
        "id": "Zs5HswOyZApE",
        "outputId": "88d22ddf-f196-4a0b-9169-aaf69326642b"
      },
      "execution_count": null,
      "outputs": [
        {
          "output_type": "stream",
          "name": "stdout",
          "text": [
            "1 2 3 4 5 6 7 "
          ]
        }
      ]
    },
    {
      "cell_type": "markdown",
      "source": [
        "#Question 2\n",
        "The show_letters function should print out each letter of a word on a separate line.\n"
      ],
      "metadata": {
        "id": "dSKm5G_rYwb3"
      }
    },
    {
      "cell_type": "code",
      "source": [
        "def show_letters(word):\n",
        "\tfor letter in word:\n",
        "\t\tprint(letter)\n",
        "\n",
        "show_letters(\"Hello\")\n",
        "# Should print one line per letter"
      ],
      "metadata": {
        "colab": {
          "base_uri": "https://localhost:8080/"
        },
        "id": "WHkqVSSnYwm1",
        "outputId": "7991dcca-99b5-4181-8c09-e7e79befb424"
      },
      "execution_count": null,
      "outputs": [
        {
          "output_type": "stream",
          "name": "stdout",
          "text": [
            "H\n",
            "e\n",
            "l\n",
            "l\n",
            "o\n"
          ]
        }
      ]
    },
    {
      "cell_type": "markdown",
      "source": [
        "#Question 3\n",
        "Complete the function digits(n) that returns how many digits the number has. For example: 25 has 2 digits and 144 has 3 digits. Tip: you can figure out the digits of a number by dividing it by 10 once per digit until there are no digits left."
      ],
      "metadata": {
        "id": "lbxE59Y8YqdH"
      }
    },
    {
      "cell_type": "code",
      "source": [
        "def digits(n):\n",
        "\tcount = 0\n",
        "\tif n == 0:\n",
        "\t  return 1\n",
        "\twhile (n>0):\n",
        "\t\tcount += 1\n",
        "\t\tn= n//10\n",
        "\treturn count\n",
        "\t\n",
        "print(digits(25))   # Should print 2\n",
        "print(digits(144))  # Should print 3\n",
        "print(digits(1000)) # Should print 4\n",
        "print(digits(0))    # Should print 1"
      ],
      "metadata": {
        "colab": {
          "base_uri": "https://localhost:8080/"
        },
        "id": "SStiIhX3YrCH",
        "outputId": "4eff5cb1-3e35-4ca3-91f8-cc2458cba964"
      },
      "execution_count": null,
      "outputs": [
        {
          "output_type": "stream",
          "name": "stdout",
          "text": [
            "2\n",
            "3\n",
            "4\n",
            "1\n"
          ]
        }
      ]
    },
    {
      "cell_type": "markdown",
      "source": [
        "#Question4 \n",
        " This function prints out a multiplication table (where each number is the result of multiplying the first number of its row by the number at the top of its column). Fill in the blanks so that calling multiplication_table(1, 3) will print out:\n",
        "\n",
        "1 2 3 \n",
        "\n",
        "2 4 6 \n",
        "\n",
        "3 6 9"
      ],
      "metadata": {
        "id": "rss6V6XRYdtn"
      }
    },
    {
      "cell_type": "code",
      "source": [
        "def multiplication_table(start, stop):\n",
        "\tfor x in range(start,stop+1):\n",
        "\t\tfor y in range(start,stop+1):\n",
        "\t\t\tprint(str(x*y), end=\" \")\n",
        "\t\tprint()\n",
        "\n",
        "multiplication_table(1, 3)\n",
        "# Should print the multiplication table shown above"
      ],
      "metadata": {
        "colab": {
          "base_uri": "https://localhost:8080/"
        },
        "id": "SlMUVfM3Ye-b",
        "outputId": "d58f6d66-618a-48f8-f9bb-c515a8cca3f2"
      },
      "execution_count": null,
      "outputs": [
        {
          "output_type": "stream",
          "name": "stdout",
          "text": [
            "1 2 3 \n",
            "2 4 6 \n",
            "3 6 9 \n"
          ]
        }
      ]
    },
    {
      "cell_type": "markdown",
      "source": [
        "\n",
        "# Question 5\n",
        "The counter function counts down from start to stop when start is bigger than stop, and counts up from start to stop otherwise."
      ],
      "metadata": {
        "id": "hAOiarftYVJ3"
      }
    },
    {
      "cell_type": "code",
      "source": [
        "def counter(start, stop):\n",
        "\tx = start\n",
        "\tif start > stop:\n",
        "\t\treturn_string = \"Counting down: \"\n",
        "\t\twhile x >= stop:\n",
        "\t\t\treturn_string += str(x)\n",
        "\t\t\tif x > stop:\n",
        "\t\t\t\treturn_string += \",\"\n",
        "\t\t\tx -= 1\n",
        "\telse:\n",
        "\t\treturn_string = \"Counting up: \"\n",
        "\t\twhile x <= stop:\n",
        "\t\t\treturn_string += str(x)\n",
        "\t\t\tif x < stop:\n",
        "\t\t\t\treturn_string += \",\"\n",
        "\t\t\tx += 1\n",
        "\treturn return_string\n",
        "\n",
        "print(counter(1, 10)) # Should be \"Counting up: 1,2,3,4,5,6,7,8,9,10\"\n",
        "print(counter(2, 1)) # Should be \"Counting down: 2,1\"\n",
        "print(counter(5, 5)) # Should be \"Counting up: 5\""
      ],
      "metadata": {
        "colab": {
          "base_uri": "https://localhost:8080/"
        },
        "id": "JQpN9cNOYRp2",
        "outputId": "8d593220-bbdd-4f24-a32c-12325e0cda20"
      },
      "execution_count": null,
      "outputs": [
        {
          "output_type": "stream",
          "name": "stdout",
          "text": [
            "Counting up: 1,2,3,4,5,6,7,8,9,10\n",
            "Counting down: 2,1\n",
            "Counting up: 5\n"
          ]
        }
      ]
    },
    {
      "cell_type": "markdown",
      "source": [
        "#Question 6\n",
        "The even_numbers function returns a space-separated string of all positive numbers that are divisible by 2, up to and including the maximum that's passed into the function. For example, even_numbers(6) returns “2 4 6”. Fill in the blank to make this work."
      ],
      "metadata": {
        "id": "8n0vejIPYbzK"
      }
    },
    {
      "cell_type": "code",
      "source": [
        "def even_numbers(maximum):\n",
        "\treturn_string = \"\"\n",
        "\tfor x in range(2,maximum+1,2):\n",
        "\t\treturn_string += str(x) + \" \"\n",
        "\treturn return_string.strip()\n",
        "\n",
        "print(even_numbers(6))  # Should be 2 4 6\n",
        "print(even_numbers(10)) # Should be 2 4 6 8 10\n",
        "print(even_numbers(1))  # No numbers displayed\n",
        "print(even_numbers(3))  # Should be 2\n",
        "print(even_numbers(0))  # No numbers displayed"
      ],
      "metadata": {
        "colab": {
          "base_uri": "https://localhost:8080/"
        },
        "id": "nZavJ5JRZRp7",
        "outputId": "7950519e-0c9d-4c88-ca4d-57fcfad93bc1"
      },
      "execution_count": null,
      "outputs": [
        {
          "output_type": "stream",
          "name": "stdout",
          "text": [
            "2 4 6\n",
            "2 4 6 8 10\n",
            "\n",
            "2\n",
            "\n"
          ]
        }
      ]
    },
    {
      "cell_type": "markdown",
      "source": [
        "# Question 7 \n",
        "What is the value of x at the end of the following code?"
      ],
      "metadata": {
        "id": "NdJwYzmYcoLb"
      }
    },
    {
      "cell_type": "code",
      "source": [
        "for x in range(1, 10, 3):\n",
        "    print(x)"
      ],
      "metadata": {
        "colab": {
          "base_uri": "https://localhost:8080/"
        },
        "id": "HmfNyTWOcleG",
        "outputId": "7cf85796-33fb-4435-e574-2d249f2b3f16"
      },
      "execution_count": null,
      "outputs": [
        {
          "output_type": "stream",
          "name": "stdout",
          "text": [
            "1\n",
            "4\n",
            "7\n"
          ]
        }
      ]
    },
    {
      "cell_type": "markdown",
      "source": [
        "#Question 8\n",
        "What is the value of y at the end of the following code?"
      ],
      "metadata": {
        "id": "eYsqioaacy-f"
      }
    },
    {
      "cell_type": "code",
      "source": [
        "for x in range(10):\n",
        "    for y in range(x):\n",
        "        print(y)"
      ],
      "metadata": {
        "id": "M3sbXCUNcyoV"
      },
      "execution_count": null,
      "outputs": []
    },
    {
      "cell_type": "markdown",
      "source": [
        "#Question 9 \n",
        "How does this function need to be called to print yes, no, and maybe as possible options to vote for?\n",
        "\n"
      ],
      "metadata": {
        "id": "ubYAT4lWc5_g"
      }
    },
    {
      "cell_type": "code",
      "source": [
        "def votes(params):\n",
        "\tfor vote in params:\n",
        "\t    print(\"Possible option:\" + vote)\n"
      ],
      "metadata": {
        "id": "Z5S2bJ6Uc5jB"
      },
      "execution_count": null,
      "outputs": []
    },
    {
      "cell_type": "code",
      "source": [
        "votes(['yes', 'no', 'maybe'])"
      ],
      "metadata": {
        "colab": {
          "base_uri": "https://localhost:8080/"
        },
        "id": "0ELIxkfndN8G",
        "outputId": "9b93a34b-56e0-404d-87f7-3f24add466be"
      },
      "execution_count": null,
      "outputs": [
        {
          "output_type": "stream",
          "name": "stdout",
          "text": [
            "Possible option:yes\n",
            "Possible option:no\n",
            "Possible option:maybe\n"
          ]
        }
      ]
    }
  ]
}